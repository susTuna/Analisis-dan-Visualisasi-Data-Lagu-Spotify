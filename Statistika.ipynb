{
 "cells": [
  {
   "cell_type": "code",
   "execution_count": 1,
   "metadata": {},
   "outputs": [],
   "source": [
    "import pandas as pd\n",
    "df = pd.read_csv('C:/Users/ASUS/Documents/pengkom/spotify_songs_clean_parameter.csv', encoding= 'latin1')"
   ]
  },
  {
   "cell_type": "code",
   "execution_count": 2,
   "metadata": {},
   "outputs": [
    {
     "name": "stdout",
     "output_type": "stream",
     "text": [
      "Max = 1.0, Min = 0.000175, Tengah = 0.721\n"
     ]
    }
   ],
   "source": [
    "#1.sampel data(max,min,tengah)\n",
    "#misal kita ambil kolom energy \n",
    "\n",
    "energy_max = df['energy'].max()\n",
    "energy_min = df['energy'].min()\n",
    "energy_tengah = df['energy'].median()\n",
    "\n",
    "print(f\"Max = {energy_max}, Min = {energy_min}, Tengah = {energy_tengah}\")"
   ]
  },
  {
   "cell_type": "code",
   "execution_count": 3,
   "metadata": {},
   "outputs": [
    {
     "name": "stdout",
     "output_type": "stream",
     "text": [
      "Rata2 energy : 0.6985608285601121, Standar deviasi energy : 0.1809043236322158\n"
     ]
    }
   ],
   "source": [
    "#2. rata2 & standar deviasi\n",
    "#kita ambil kolom energy\n",
    "energy_rata2 = df['energy'].mean()\n",
    "energy_std = df['energy'].std()\n",
    "print(f\"Rata2 energy : {energy_rata2}, Standar deviasi energy : {energy_std}\")"
   ]
  },
  {
   "cell_type": "code",
   "execution_count": 4,
   "metadata": {},
   "outputs": [
    {
     "name": "stdout",
     "output_type": "stream",
     "text": [
      "Persentil ke 25 : 0.581, Persentil ke 50 : 0.721, Persentil ke 75 : 0.84\n"
     ]
    }
   ],
   "source": [
    "#persentil\n",
    "energy_persentil25 = df['energy'].quantile(0.25) \n",
    "energy_persentil50 = df['energy'].quantile(0.5)\n",
    "energy_persentil75 = df['energy'].quantile(0.75)\n",
    "\n",
    "print(f\"Persentil ke 25 : {energy_persentil25}, Persentil ke 50 : {energy_persentil50}, Persentil ke 75 : {energy_persentil75}\")"
   ]
  },
  {
   "cell_type": "code",
   "execution_count": 5,
   "metadata": {},
   "outputs": [
    {
     "name": "stdout",
     "output_type": "stream",
     "text": [
      "Distribusi Frekuensi energy : \n",
      "energy\n",
      "0.7870    100\n",
      "0.8280     99\n",
      "0.8330     98\n",
      "0.7950     91\n",
      "0.7110     91\n",
      "         ... \n",
      "0.0671      1\n",
      "0.0765      1\n",
      "0.0455      1\n",
      "0.0725      1\n",
      "0.1060      1\n",
      "Name: count, Length: 952, dtype: int64\n"
     ]
    }
   ],
   "source": [
    "#distribusi frekuensi\n",
    "energy_distribusifrekuensi = df['energy'].value_counts()\n",
    "print(f\"Distribusi Frekuensi energy : \\n{energy_distribusifrekuensi}\")"
   ]
  },
  {
   "cell_type": "code",
   "execution_count": 6,
   "metadata": {},
   "outputs": [
    {
     "name": "stdout",
     "output_type": "stream",
     "text": [
      "       track_popularity  danceability        energy           key  \\\n",
      "count      32822.000000  32822.000000  32822.000000  32822.000000   \n",
      "mean          42.484980      0.654835      0.698561      5.373987   \n",
      "std           24.979838      0.145080      0.180904      3.611433   \n",
      "min            0.000000      0.000000      0.000175      0.000000   \n",
      "25%           24.000000      0.563000      0.581000      2.000000   \n",
      "50%           45.000000      0.672000      0.721000      6.000000   \n",
      "75%           62.000000      0.761000      0.840000      9.000000   \n",
      "max          100.000000      0.983000      1.000000     11.000000   \n",
      "\n",
      "           loudness          mode   speechiness  acousticness  \\\n",
      "count  32822.000000  32822.000000  32822.000000  32822.000000   \n",
      "mean      -6.720886      0.565688      0.107051      0.175363   \n",
      "std        2.987223      0.495674      0.101314      0.219662   \n",
      "min      -46.448000      0.000000      0.000000      0.000000   \n",
      "25%       -8.172000      0.000000      0.041000      0.015100   \n",
      "50%       -6.166000      1.000000      0.062500      0.080400   \n",
      "75%       -4.646000      1.000000      0.132000      0.255000   \n",
      "max       -0.046000      1.000000      0.918000      0.994000   \n",
      "\n",
      "       instrumentalness      liveness       valence         tempo  \\\n",
      "count      32822.000000  32822.000000  32822.000000  32822.000000   \n",
      "mean           0.084772      0.190166      0.510581    120.880823   \n",
      "std            0.224263      0.154299      0.233157     26.904426   \n",
      "min            0.000000      0.000000      0.000000      0.000000   \n",
      "25%            0.000000      0.092700      0.331000     99.960250   \n",
      "50%            0.000016      0.127000      0.512000    121.983500   \n",
      "75%            0.004830      0.248000      0.693750    133.916000   \n",
      "max            0.994000      0.996000      0.991000    239.440000   \n",
      "\n",
      "         duration_ms  \n",
      "count   32822.000000  \n",
      "mean   225805.280147  \n",
      "std     59834.182841  \n",
      "min      4000.000000  \n",
      "25%    187819.750000  \n",
      "50%    216000.500000  \n",
      "75%    253583.750000  \n",
      "max    517810.000000  \n"
     ]
    }
   ],
   "source": [
    "#informasi yg bisa didapat dari statistik\n",
    "energy_info = df.describe()\n",
    "print(energy_info)"
   ]
  }
 ],
 "metadata": {
  "kernelspec": {
   "display_name": "Python 3",
   "language": "python",
   "name": "python3"
  },
  "language_info": {
   "codemirror_mode": {
    "name": "ipython",
    "version": 3
   },
   "file_extension": ".py",
   "mimetype": "text/x-python",
   "name": "python",
   "nbconvert_exporter": "python",
   "pygments_lexer": "ipython3",
   "version": "3.12.0"
  }
 },
 "nbformat": 4,
 "nbformat_minor": 2
}
