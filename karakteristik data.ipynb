{
 "cells": [
  {
   "cell_type": "code",
   "execution_count": 42,
   "metadata": {},
   "outputs": [],
   "source": [
    "import pandas as pd\n",
    "df = pd.read_csv(\"spotify_songs.csv\")"
   ]
  },
  {
   "cell_type": "markdown",
   "metadata": {},
   "source": [
    "# ATRIBUT PADA DATASET"
   ]
  },
  {
   "cell_type": "code",
   "execution_count": 43,
   "metadata": {},
   "outputs": [
    {
     "name": "stdout",
     "output_type": "stream",
     "text": [
      "Index(['track_id', 'track_name', 'track_artist', 'track_popularity',\n",
      "       'track_album_id', 'track_album_name', 'track_album_release_date',\n",
      "       'playlist_name', 'playlist_id', 'playlist_genre', 'playlist_subgenre',\n",
      "       'danceability', 'energy', 'key', 'loudness', 'mode', 'speechiness',\n",
      "       'acousticness', 'instrumentalness', 'liveness', 'valence', 'tempo',\n",
      "       'duration_ms'],\n",
      "      dtype='object')\n",
      "23\n"
     ]
    }
   ],
   "source": [
    "columns = df.columns\n",
    "print(columns)\n",
    "print(len(columns))"
   ]
  },
  {
   "cell_type": "markdown",
   "metadata": {},
   "source": [
    "Pada dataset terdapat 23 atribut yaitu:\n",
    "1. track_id                 : id unik lagu\n",
    "2. track_name               : nama lagu\n",
    "3. track_artist             : penyanyi lagu\n",
    "4. track_popularity         : nilai popularitas lagu dari 0 hingga 100\n",
    "5. track_album_id           : id unik album\n",
    "6. track_album_name         : nama album\n",
    "7. track_album_release_date : tanggal rilis album\n",
    "8. playlist_name            : nama playlist\n",
    "9. playlist_id              : id playlist\n",
    "10. playlist_genre          : genre playlist\n",
    "11. playlist_subgenre       : subgenre playlist\n",
    "12. danceability            : (nilai 0.0-1.0) pengukuran seberapa lagu dapat ditarikan\n",
    "13. energy                  : (nilai 0.0-1.0) pengukuran intensitas dan banyak aktivitas lagu\n",
    "14. key                     : kunci nada dari lagu (C:1,C#/Db:2,D:3,...,B:12) \n",
    "15. loudness                : nilai kenyaringan lagu dari -60 db hingga 0 db\n",
    "16. mode                    : tipe modalitas (mayor:1,minor:0)\n",
    "17. speechiness             : (nilai 0.0-1.0) pengukuran keberadaannya pengucapan kata (nyanyian) dalan lagu\n",
    "18. acousticness            : (nilai 0.0-1.0) pengukuran nilai akustik dari lagu\n",
    "19. instrumentalness        : (nilai 0.0-1.0) pengukuran ketidakberadaannya pengucapan kata (nyanyian) dalan lagu\n",
    "20. liveness                : (nilai 0.0-1.0) pengukuran probabilitas lagu direkam secara live dengan penonton\n",
    "21. valence                 : (nilai 0.0-1.0) pengukuran kepositivan dari lagu\n",
    "22. tempo                   : tempo lagu dalam bpm\n",
    "23. duration_ms             : durasi lagu dalam milisekon"
   ]
  },
  {
   "cell_type": "markdown",
   "metadata": {},
   "source": [
    "# JENIS ATRIBUT PADA DATASET"
   ]
  },
  {
   "cell_type": "code",
   "execution_count": 44,
   "metadata": {},
   "outputs": [
    {
     "name": "stdout",
     "output_type": "stream",
     "text": [
      "track_id                     object\n",
      "track_name                   object\n",
      "track_artist                 object\n",
      "track_popularity              int64\n",
      "track_album_id               object\n",
      "track_album_name             object\n",
      "track_album_release_date     object\n",
      "playlist_name                object\n",
      "playlist_id                  object\n",
      "playlist_genre               object\n",
      "playlist_subgenre            object\n",
      "danceability                float64\n",
      "energy                      float64\n",
      "key                           int64\n",
      "loudness                    float64\n",
      "mode                          int64\n",
      "speechiness                 float64\n",
      "acousticness                float64\n",
      "instrumentalness            float64\n",
      "liveness                    float64\n",
      "valence                     float64\n",
      "tempo                       float64\n",
      "duration_ms                   int64\n",
      "dtype: object\n"
     ]
    }
   ],
   "source": [
    "types = df.dtypes\n",
    "print(types)"
   ]
  },
  {
   "cell_type": "markdown",
   "metadata": {},
   "source": [
    "Atribut pada dataset memiliki jenis sebagai berikut:\n",
    "1. track_id                 : Categorical-Nominal\n",
    "2. track_name               : Categorical-Nominal\n",
    "3. track_artist             : Categorical-Nominal\n",
    "4. track_popularity         : Quantitative-Discrete\n",
    "5. track_album_id           : Categorical-Nominal\n",
    "6. track_album_name         : Categorical-Nominal\n",
    "7. track_album_release_date : Categorical-Nominal\n",
    "8. playlist_name            : Categorical-Nominal\n",
    "9. playlist_id              : Categorical-Nominal\n",
    "10. playlist_genre          : Categorical-Nominal\n",
    "11. playlist_subgenre       : Categorical-Nominal\n",
    "12. danceability            : Quantitative-Continues\n",
    "13. energy                  : Quantitative-Continues\n",
    "14. key                     : Categorical-Nominal*\n",
    "15. loudness                : Quantitative-Continues\n",
    "16. mode                    : Categorical-Nominal*\n",
    "17. speechiness             : Quantitative-Continues\n",
    "18. acousticness            : Quantitative-Continues\n",
    "19. instrumentalness        : Quantitative-Continues\n",
    "20. liveness                : Quantitative-Continues\n",
    "21. valence                 : Quantitative-Continues\n",
    "22. tempo                   : Quantitative-Continues\n",
    "23. duration_ms             : Quantitative-Discrete\n",
    "\n",
    "*walaupun data dalam atribut tersebut berbentuk integer, pemahaman yang didapat berupa kategorikal \n",
    "\n",
    "Jumlah masing-masing kategori\n",
    "\n",
    "1. Categorical-Nominal     : 12\n",
    "2. Quantitative-Continues  : 9\n",
    "3. Quantitative-Discrete   : 2"
   ]
  },
  {
   "cell_type": "markdown",
   "metadata": {},
   "source": [
    "# Menampilkan nilai apa saja pada atribut kategorikal"
   ]
  },
  {
   "cell_type": "code",
   "execution_count": 45,
   "metadata": {},
   "outputs": [],
   "source": [
    "kategorikal = ['track_id','track_name','track_artist','track_album_id','track_album_name','track_album_release_date','playlist_name','playlist_id','playlist_genre','playlist_subgenre','key','mode']\n",
    "q_kontinu = ['danceability','energy','loudness','speechiness','acousticness','instrumentalness','liveness','valence','tempo']\n",
    "q_diskrit = ['track_popularity','duration_ms']"
   ]
  },
  {
   "cell_type": "code",
   "execution_count": 46,
   "metadata": {},
   "outputs": [
    {
     "name": "stdout",
     "output_type": "stream",
     "text": [
      "1. track_id\n",
      "track_id\n",
      "7BKLCZ1jbUBVqRi2FVlTVw    10\n",
      "14sOS5L36385FJ3OL8hew4     9\n",
      "3eekarcy7kvN4yt5ZFzltW     9\n",
      "2Fxmhks0bxGSBdJ92vM42m     8\n",
      "2tnVG71enUj33Ic2nFN6kZ     8\n",
      "                          ..\n",
      "3AKwyujeGxTQSZNbx9Ka3c     1\n",
      "3ITvHA9zhZZdBJsOsAUegF     1\n",
      "5gsW8TMmNVnevjq13h0Nlp     1\n",
      "4pN4icvWINm9uN3bElfbec     1\n",
      "29zWqhca3zt5NsckZqDf6c     1\n",
      "Name: count, Length: 28356, dtype: int64\n",
      "\n",
      "2. track_name\n",
      "track_name\n",
      "Poison                    22\n",
      "Breathe                   21\n",
      "Alive                     20\n",
      "Forever                   20\n",
      "Stay                      19\n",
      "                          ..\n",
      "Quien Eres Tu              1\n",
      "Como Nadie                 1\n",
      "Ya No Estás Aquí           1\n",
      "Ojala                      1\n",
      "Typhoon - Original Mix     1\n",
      "Name: count, Length: 23449, dtype: int64\n",
      "\n",
      "3. track_artist\n",
      "track_artist\n",
      "Martin Garrix       161\n",
      "Queen               136\n",
      "The Chainsmokers    123\n",
      "David Guetta        110\n",
      "Don Omar            102\n",
      "                   ... \n",
      "Underworld            1\n",
      "The Witches           1\n",
      "Tess Parks            1\n",
      "Mick Harvey           1\n",
      "Mat Zo                1\n",
      "Name: count, Length: 10692, dtype: int64\n",
      "\n",
      "4. track_album_id\n",
      "track_album_id\n",
      "5L1xcowSxwzFUSJzvyMp48    42\n",
      "5fstCqs5NpIlF42VhPNv23    29\n",
      "7CjJb2mikwAWA1V6kewFBF    28\n",
      "4VFG1DOuTeDMBjBLZT7hCK    26\n",
      "2HTbQ0RHwukKVXAlTmCZP2    21\n",
      "                          ..\n",
      "7gLNPbL9arQdIl4aj4hBcq     1\n",
      "7vTkGDm4harI3j80FSvr2p     1\n",
      "6l9KC46CPYsajHbe3NMK7F     1\n",
      "7851Vsjv3apS52sXUik6iF     1\n",
      "0X3mUOm6MhxR7PzxG95rAo     1\n",
      "Name: count, Length: 22545, dtype: int64\n",
      "\n",
      "5. track_album_name\n",
      "track_album_name\n",
      "Greatest Hits                  139\n",
      "Ultimate Freestyle Mega Mix     42\n",
      "Gold                            35\n",
      "Malibu                          30\n",
      "Rock & Rios (Remastered)        29\n",
      "                              ... \n",
      "A Mouthful                       1\n",
      "Blonde comme moi                 1\n",
      "Every Second Counts              1\n",
      "Birdy (Deluxe Version)           1\n",
      "Typhoon/Storm                    1\n",
      "Name: count, Length: 19743, dtype: int64\n",
      "\n",
      "6. track_album_release_date\n",
      "track_album_release_date\n",
      "2020-01-10    270\n",
      "2019-11-22    244\n",
      "2019-12-06    235\n",
      "2019-12-13    220\n",
      "2013-01-01    219\n",
      "             ... \n",
      "1973-08-28      1\n",
      "2000-03-23      1\n",
      "1967-04         1\n",
      "1968-07-03      1\n",
      "2014-04-18      1\n",
      "Name: count, Length: 4530, dtype: int64\n",
      "\n",
      "7. playlist_name\n",
      "playlist_name\n",
      "Indie Poptimism                                              308\n",
      "2020 Hits & 2019  Hits – Top Global Tracks 🔥🔥🔥               247\n",
      "Permanent Wave                                               244\n",
      "Hard Rock Workout                                            219\n",
      "Ultimate Indie Presents... Best Indie Tracks of the 2010s    198\n",
      "                                                            ... \n",
      "CSR 103:9 (GTA: SA)                                            7\n",
      "Big White Room-Jessie-J                                        7\n",
      "TOP 50 GLOBAL 2020 UPDATED WEEKLY 🌍🎶 WORLDWIDE                 6\n",
      "ALPAS Music Festival                                           3\n",
      "Post-Teen Pop                                                  1\n",
      "Name: count, Length: 449, dtype: int64\n",
      "\n",
      "8. playlist_id\n",
      "playlist_id\n",
      "4JkkvMpVl4lSioqQjeAL0q    247\n",
      "37i9dQZF1DWTHM4kX49UKs    198\n",
      "6KnQDwp0syvhfHOR4lWP7x    195\n",
      "3xMQTDLOIGvj3lWH5e5x6F    189\n",
      "3Ho3iO0iJykgEQNbjB2sic    182\n",
      "                         ... \n",
      "4sr2xEhXQR5VuZ0LZX8TQ8      7\n",
      "6dqoVI7qwYLyNqbg0MPad3      7\n",
      "2CJsD3fcYJWcliEKnwmovU      6\n",
      "6pPpLz42hUkr8gbMirkAEl      3\n",
      "6HprqD6WZMx5peClrxaprN      1\n",
      "Name: count, Length: 471, dtype: int64\n",
      "\n",
      "9. playlist_genre\n",
      "playlist_genre\n",
      "edm      6043\n",
      "rap      5746\n",
      "pop      5507\n",
      "r&b      5431\n",
      "latin    5155\n",
      "rock     4951\n",
      "Name: count, dtype: int64\n",
      "\n",
      "10. playlist_subgenre\n",
      "playlist_subgenre\n",
      "progressive electro house    1809\n",
      "southern hip hop             1675\n",
      "indie poptimism              1672\n",
      "latin hip hop                1656\n",
      "neo soul                     1637\n",
      "pop edm                      1517\n",
      "electro house                1511\n",
      "hard rock                    1485\n",
      "gangster rap                 1458\n",
      "electropop                   1408\n",
      "urban contemporary           1405\n",
      "hip hop                      1322\n",
      "dance pop                    1298\n",
      "classic rock                 1296\n",
      "trap                         1291\n",
      "tropical                     1288\n",
      "latin pop                    1262\n",
      "hip pop                      1256\n",
      "big room                     1206\n",
      "new jack swing               1133\n",
      "post-teen pop                1129\n",
      "permanent wave               1105\n",
      "album rock                   1065\n",
      "reggaeton                     949\n",
      "Name: count, dtype: int64\n",
      "\n",
      "11. key\n",
      "key\n",
      "1     4010\n",
      "0     3454\n",
      "7     3352\n",
      "9     3027\n",
      "11    2996\n",
      "2     2827\n",
      "5     2680\n",
      "6     2670\n",
      "8     2430\n",
      "10    2273\n",
      "4     2201\n",
      "3      913\n",
      "Name: count, dtype: int64\n",
      "\n",
      "12. mode\n",
      "mode\n",
      "1    18574\n",
      "0    14259\n",
      "Name: count, dtype: int64\n",
      "\n"
     ]
    }
   ],
   "source": [
    "for i in range(len(kategorikal)):\n",
    "    print(f'{i+1}.',kategorikal[i])\n",
    "    variabel = df[kategorikal[i]].value_counts()\n",
    "    print(variabel)\n",
    "    print()\n",
    "#view output as a scrollabel element"
   ]
  },
  {
   "cell_type": "markdown",
   "metadata": {},
   "source": [
    "berikut ini merupakan jumlah nilai yang dimiliki dalam atribut masing2"
   ]
  },
  {
   "cell_type": "code",
   "execution_count": 47,
   "metadata": {},
   "outputs": [
    {
     "name": "stdout",
     "output_type": "stream",
     "text": [
      "1. track_id: 28356\n",
      "2. track_name: 23449\n",
      "3. track_artist: 10692\n",
      "4. track_album_id: 22545\n",
      "5. track_album_name: 19743\n",
      "6. track_album_release_date: 4530\n",
      "7. playlist_name: 449\n",
      "8. playlist_id: 471\n",
      "9. playlist_genre: 6\n",
      "10. playlist_subgenre: 24\n",
      "11. key: 12\n",
      "12. mode: 2\n"
     ]
    }
   ],
   "source": [
    "for i in range(len(kategorikal)):\n",
    "    print(f'{i+1}.',kategorikal[i],end=\": \")\n",
    "    variabel = df[kategorikal[i]].value_counts()\n",
    "    print(len(variabel))"
   ]
  },
  {
   "cell_type": "markdown",
   "metadata": {},
   "source": [
    "# Menampilkan range nilai pada atribut kuantitatif"
   ]
  },
  {
   "cell_type": "code",
   "execution_count": 48,
   "metadata": {},
   "outputs": [
    {
     "name": "stdout",
     "output_type": "stream",
     "text": [
      "atribut kuantitatif kontinu\n",
      "1. danceability: 0.0 - 0.983\n",
      "2. energy: 0.000175 - 1.0\n",
      "3. loudness: -46.448 - 1.275\n",
      "4. speechiness: 0.0 - 0.918\n",
      "5. acousticness: 0.0 - 0.994\n",
      "6. instrumentalness: 0.0 - 0.994\n",
      "7. liveness: 0.0 - 0.996\n",
      "8. valence: 0.0 - 0.991\n",
      "9. tempo: 0.0 - 239.44\n",
      "\n",
      "atribut kuantitatif diskrit\n",
      "1. track_popularity: 0 - 100\n",
      "2. duration_ms: 4000 - 517810\n"
     ]
    }
   ],
   "source": [
    "print('atribut kuantitatif kontinu')\n",
    "for i in range(len(q_kontinu)):\n",
    "    print(f'{i+1}.',q_kontinu[i],end=\": \")\n",
    "    variabel_max = df[q_kontinu[i]].max()\n",
    "    variabel_min = df[q_kontinu[i]].min()\n",
    "    print(variabel_min,'-',variabel_max)\n",
    "print()\n",
    "print('atribut kuantitatif diskrit')\n",
    "for i in range(len(q_diskrit)):\n",
    "    print(f'{i+1}.',q_diskrit[i],end=\": \")\n",
    "    variabel_max = df[q_diskrit[i]].max()\n",
    "    variabel_min = df[q_diskrit[i]].min()\n",
    "    print(variabel_min,'-',variabel_max)\n"
   ]
  }
 ],
 "metadata": {
  "kernelspec": {
   "display_name": "Python 3",
   "language": "python",
   "name": "python3"
  },
  "language_info": {
   "codemirror_mode": {
    "name": "ipython",
    "version": 3
   },
   "file_extension": ".py",
   "mimetype": "text/x-python",
   "name": "python",
   "nbconvert_exporter": "python",
   "pygments_lexer": "ipython3",
   "version": "3.11.4"
  }
 },
 "nbformat": 4,
 "nbformat_minor": 2
}
