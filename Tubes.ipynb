import pd as pandas
df = pd.read_csv('C:/Users/Khairunnisa Azizah/ITB🐘/spotify-2023.csv')
