import pd as pandas
df = pd.read_csv('spotify-2023.csv')
print(df)
